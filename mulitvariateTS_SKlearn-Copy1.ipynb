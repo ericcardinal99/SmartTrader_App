{
 "cells": [
  {
   "cell_type": "code",
   "execution_count": 1,
   "id": "08e632e2-bb31-4207-935c-34820ca3966c",
   "metadata": {},
   "outputs": [],
   "source": [
    "import numpy as np\n",
    "import pandas as pd \n",
    "import torch\n",
    "import torch.nn as nn\n",
    "import torch.optim as optim\n",
    "import matplotlib.pyplot as plt\n",
    "from sklearn.preprocessing import MinMaxScaler\n",
    "from sklearn.neural_network import MLPRegressor\n",
    "from sklearn.metrics import mean_squared_error\n",
    "from sklearn.model_selection import train_test_split"
   ]
  },
  {
   "cell_type": "code",
   "execution_count": 2,
   "id": "4c5f866e-c952-4749-8cc2-7890b215dd2d",
   "metadata": {},
   "outputs": [
    {
     "data": {
      "text/html": [
       "<div>\n",
       "<style scoped>\n",
       "    .dataframe tbody tr th:only-of-type {\n",
       "        vertical-align: middle;\n",
       "    }\n",
       "\n",
       "    .dataframe tbody tr th {\n",
       "        vertical-align: top;\n",
       "    }\n",
       "\n",
       "    .dataframe thead th {\n",
       "        text-align: right;\n",
       "    }\n",
       "</style>\n",
       "<table border=\"1\" class=\"dataframe\">\n",
       "  <thead>\n",
       "    <tr style=\"text-align: right;\">\n",
       "      <th></th>\n",
       "      <th>Date</th>\n",
       "      <th>Open</th>\n",
       "      <th>High</th>\n",
       "      <th>Low</th>\n",
       "      <th>Close</th>\n",
       "      <th>AdjClose</th>\n",
       "      <th>Volume</th>\n",
       "    </tr>\n",
       "  </thead>\n",
       "  <tbody>\n",
       "    <tr>\n",
       "      <th>0</th>\n",
       "      <td>25-Nov-24</td>\n",
       "      <td>141.99</td>\n",
       "      <td>142.05</td>\n",
       "      <td>135.82</td>\n",
       "      <td>136.02</td>\n",
       "      <td>136.02</td>\n",
       "      <td>344,941,900</td>\n",
       "    </tr>\n",
       "    <tr>\n",
       "      <th>1</th>\n",
       "      <td>22-Nov-24</td>\n",
       "      <td>145.93</td>\n",
       "      <td>147.16</td>\n",
       "      <td>141.10</td>\n",
       "      <td>141.95</td>\n",
       "      <td>141.95</td>\n",
       "      <td>236,406,200</td>\n",
       "    </tr>\n",
       "    <tr>\n",
       "      <th>2</th>\n",
       "      <td>21-Nov-24</td>\n",
       "      <td>149.35</td>\n",
       "      <td>152.89</td>\n",
       "      <td>140.70</td>\n",
       "      <td>146.67</td>\n",
       "      <td>146.67</td>\n",
       "      <td>400,946,600</td>\n",
       "    </tr>\n",
       "    <tr>\n",
       "      <th>3</th>\n",
       "      <td>20-Nov-24</td>\n",
       "      <td>147.41</td>\n",
       "      <td>147.56</td>\n",
       "      <td>142.73</td>\n",
       "      <td>145.89</td>\n",
       "      <td>145.89</td>\n",
       "      <td>309,871,700</td>\n",
       "    </tr>\n",
       "    <tr>\n",
       "      <th>4</th>\n",
       "      <td>19-Nov-24</td>\n",
       "      <td>141.32</td>\n",
       "      <td>147.13</td>\n",
       "      <td>140.99</td>\n",
       "      <td>147.01</td>\n",
       "      <td>147.01</td>\n",
       "      <td>227,834,900</td>\n",
       "    </tr>\n",
       "  </tbody>\n",
       "</table>\n",
       "</div>"
      ],
      "text/plain": [
       "        Date    Open    High     Low   Close  AdjClose        Volume\n",
       "0  25-Nov-24  141.99  142.05  135.82  136.02     136.02  344,941,900\n",
       "1  22-Nov-24  145.93  147.16  141.10  141.95     141.95  236,406,200\n",
       "2  21-Nov-24  149.35  152.89  140.70  146.67     146.67  400,946,600\n",
       "3  20-Nov-24  147.41  147.56  142.73  145.89     145.89  309,871,700\n",
       "4  19-Nov-24  141.32  147.13  140.99  147.01     147.01  227,834,900"
      ]
     },
     "execution_count": 2,
     "metadata": {},
     "output_type": "execute_result"
    }
   ],
   "source": [
    "# Read and check how the data looks\n",
    "nvidia = pd.read_csv('NVIDIApricehistory.csv')\n",
    "nvidia.head()"
   ]
  },
  {
   "cell_type": "code",
   "execution_count": 3,
   "id": "d1d06e7d-f52c-4fec-8744-8f43d6be4562",
   "metadata": {},
   "outputs": [],
   "source": [
    "# Droping the rows with missing values, fixing the date format and turning the Open column into a float64 dtype\n",
    "nvidia = nvidia.dropna()\n",
    "nvidia['Date'] = pd.to_datetime(nvidia['Date'], format='%d-%b-%y')\n",
    "nvidia['Open'] = nvidia['Open'].astype('float64')"
   ]
  },
  {
   "cell_type": "code",
   "execution_count": 4,
   "id": "8dd15d38-097b-4854-be9c-faf724000beb",
   "metadata": {},
   "outputs": [
    {
     "data": {
      "text/plain": [
       "Date         datetime64[ns]\n",
       "Open                float64\n",
       "High                float64\n",
       "Low                 float64\n",
       "Close               float64\n",
       "AdjClose            float64\n",
       "Volume               object\n",
       "dtype: object"
      ]
     },
     "execution_count": 4,
     "metadata": {},
     "output_type": "execute_result"
    }
   ],
   "source": [
    "# Data type of the columns\n",
    "nvidia.dtypes"
   ]
  },
  {
   "cell_type": "code",
   "execution_count": 5,
   "id": "75f5cef1-90c4-4980-8206-931f2118e919",
   "metadata": {},
   "outputs": [
    {
     "data": {
      "text/plain": [
       "<function matplotlib.pyplot.show(close=None, block=None)>"
      ]
     },
     "execution_count": 5,
     "metadata": {},
     "output_type": "execute_result"
    },
    {
     "data": {
      "image/png": "[encoded data removed]",
      "text/plain": [
       "<Figure size 640x480 with 1 Axes>"
      ]
     },
     "metadata": {},
     "output_type": "display_data"
    }
   ],
   "source": [
    "# Ploting the closing price over time\n",
    "plt.plot(nvidia['Date'], nvidia['Close'])\n",
    "plt.show"
   ]
  },
  {
   "cell_type": "code",
   "execution_count": 6,
   "id": "8feb9061-421f-4f7a-a726-0154eaaa3feb",
   "metadata": {},
   "outputs": [],
   "source": [
    "# Create the train and test datasets, for this example it is only going to take the closing price\n",
    "data = nvidia[['Open', 'High',\t'Low',\t'Close']]"
   ]
  },
  {
   "cell_type": "code",
   "execution_count": 7,
   "id": "9c76254f-3fdd-4acb-a175-85112487b3e4",
   "metadata": {},
   "outputs": [],
   "source": [
    "# Create a function to turn the data into time series data\n",
    "def createTimeSeriesData(df, timesteps=1):\n",
    "    columns = []\n",
    "    for col in df.columns:\n",
    "        for i in range(1, timesteps+1):\n",
    "            columns.append(df[col].shift(i).rename(f\"{col}_lag_{i}\"))\n",
    "    target = df.rename(columns=lambda col: f\"{col}_target\")\n",
    "    ts_df = pd.concat(columns + [target], axis=1)\n",
    "    ts_df.dropna(inplace=True)\n",
    "    return ts_df"
   ]
  },
  {
   "cell_type": "code",
   "execution_count": 21,
   "id": "e816a387-eb2c-4f18-abd1-c2449f855801",
   "metadata": {},
   "outputs": [],
   "source": [
    "# Determine the number of timesteps (days to use in the prediction) and create the time series data\n",
    "timesteps = 5\n",
    "ts_data = createTimeSeriesData(data, timesteps)"
   ]
  },
  {
   "cell_type": "code",
   "execution_count": 23,
   "id": "3ed927d5-b586-417e-9c5a-834d537fad29",
   "metadata": {},
   "outputs": [
    {
     "name": "stdout",
     "output_type": "stream",
     "text": [
      "Train RMSE for Open, High,  Low,  Close: [0.87337336 0.73461426 0.87351793 0.64618098]\n",
      "Test RMSE for Open, High,  Low,  Close: [1.09939389 0.9516929  0.85425801 0.68055313]\n"
     ]
    }
   ],
   "source": [
    "# Split the data into features and targets (the last 4 columns of the dataframe are the targets)\n",
    "X = ts_data.iloc[:, :-4].values  \n",
    "y = ts_data.iloc[:, -4:].values  \n",
    "\n",
    "# Split the data into training and testing sets\n",
    "X_train, X_test, y_train, y_test = train_test_split(X, y, test_size=0.2)\n",
    "\n",
    "# Define and train the MLP model (In this case the model has 4 outputs, Open, High, Low, Close)\n",
    "mlp = MLPRegressor(hidden_layer_sizes=(10,5), activation='relu', solver='adam', max_iter=1000)\n",
    "mlp.fit(X_train, y_train)\n",
    "\n",
    "# Make predictions\n",
    "y_pred_train = mlp.predict(X_train)\n",
    "y_pred_test = mlp.predict(X_test)\n",
    "\n",
    "# Evaluate the model\n",
    "train_rmse = np.sqrt(mean_squared_error(y_train, y_pred_train, multioutput='raw_values'))\n",
    "test_rmse = np.sqrt(mean_squared_error(y_test, y_pred_test, multioutput='raw_values'))\n",
    "\n",
    "print(\"Train RMSE for Open, High,  Low,  Close:\", train_rmse)\n",
    "print(\"Test RMSE for Open, High,  Low,  Close:\", test_rmse)"
   ]
  }
 ],
 "metadata": {
  "kernelspec": {
   "display_name": "Python 3 (ipykernel)",
   "language": "python",
   "name": "python3"
  },
  "language_info": {
   "codemirror_mode": {
    "name": "ipython",
    "version": 3
   },
   "file_extension": ".py",
   "mimetype": "text/x-python",
   "name": "python",
   "nbconvert_exporter": "python",
   "pygments_lexer": "ipython3",
   "version": "3.10.9"
  }
 },
 "nbformat": 4,
 "nbformat_minor": 5
}
